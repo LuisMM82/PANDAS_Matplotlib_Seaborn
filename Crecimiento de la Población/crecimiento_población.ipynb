{
 "cells": [
  {
   "cell_type": "code",
   "execution_count": 1,
   "metadata": {},
   "outputs": [],
   "source": [
    "import pandas as pd\n",
    "import seaborn as sns\n",
    "import matplotlib.pyplot as plt"
   ]
  },
  {
   "cell_type": "code",
   "execution_count": 2,
   "metadata": {},
   "outputs": [],
   "source": [
    "cs= pd.read_csv(\"World Population Growth.csv\", index_col=0)"
   ]
  },
  {
   "cell_type": "code",
   "execution_count": 3,
   "metadata": {},
   "outputs": [
    {
     "data": {
      "text/html": [
       "<div>\n",
       "<style scoped>\n",
       "    .dataframe tbody tr th:only-of-type {\n",
       "        vertical-align: middle;\n",
       "    }\n",
       "\n",
       "    .dataframe tbody tr th {\n",
       "        vertical-align: top;\n",
       "    }\n",
       "\n",
       "    .dataframe thead th {\n",
       "        text-align: right;\n",
       "    }\n",
       "</style>\n",
       "<table border=\"1\" class=\"dataframe\">\n",
       "  <thead>\n",
       "    <tr style=\"text-align: right;\">\n",
       "      <th></th>\n",
       "      <th>Population</th>\n",
       "      <th>Yearly Growth %</th>\n",
       "      <th>Number</th>\n",
       "      <th>Density (Pop/km2)</th>\n",
       "    </tr>\n",
       "    <tr>\n",
       "      <th>Year</th>\n",
       "      <th></th>\n",
       "      <th></th>\n",
       "      <th></th>\n",
       "      <th></th>\n",
       "    </tr>\n",
       "  </thead>\n",
       "  <tbody>\n",
       "    <tr>\n",
       "      <th>1951</th>\n",
       "      <td>2,543,130,380</td>\n",
       "      <td>1.75%</td>\n",
       "      <td>43,808,223</td>\n",
       "      <td>17</td>\n",
       "    </tr>\n",
       "    <tr>\n",
       "      <th>1952</th>\n",
       "      <td>2,590,270,899</td>\n",
       "      <td>1.85%</td>\n",
       "      <td>47,140,519</td>\n",
       "      <td>17</td>\n",
       "    </tr>\n",
       "    <tr>\n",
       "      <th>1953</th>\n",
       "      <td>2,640,278,797</td>\n",
       "      <td>1.93%</td>\n",
       "      <td>50,007,898</td>\n",
       "      <td>18</td>\n",
       "    </tr>\n",
       "    <tr>\n",
       "      <th>1954</th>\n",
       "      <td>2,691,979,339</td>\n",
       "      <td>1.96%</td>\n",
       "      <td>51,700,542</td>\n",
       "      <td>18</td>\n",
       "    </tr>\n",
       "    <tr>\n",
       "      <th>1955</th>\n",
       "      <td>2,746,072,141</td>\n",
       "      <td>2.01%</td>\n",
       "      <td>54,092,802</td>\n",
       "      <td>18</td>\n",
       "    </tr>\n",
       "    <tr>\n",
       "      <th>...</th>\n",
       "      <td>...</td>\n",
       "      <td>...</td>\n",
       "      <td>...</td>\n",
       "      <td>...</td>\n",
       "    </tr>\n",
       "    <tr>\n",
       "      <th>2019</th>\n",
       "      <td>7,764,951,032</td>\n",
       "      <td>1.06%</td>\n",
       "      <td>81,161,204</td>\n",
       "      <td>52</td>\n",
       "    </tr>\n",
       "    <tr>\n",
       "      <th>2020</th>\n",
       "      <td>7,840,952,880</td>\n",
       "      <td>0.98%</td>\n",
       "      <td>76,001,848</td>\n",
       "      <td>53</td>\n",
       "    </tr>\n",
       "    <tr>\n",
       "      <th>2021</th>\n",
       "      <td>7,909,295,151</td>\n",
       "      <td>0.87%</td>\n",
       "      <td>68,342,271</td>\n",
       "      <td>53</td>\n",
       "    </tr>\n",
       "    <tr>\n",
       "      <th>2022</th>\n",
       "      <td>7,975,105,156</td>\n",
       "      <td>0.83%</td>\n",
       "      <td>65,810,005</td>\n",
       "      <td>54</td>\n",
       "    </tr>\n",
       "    <tr>\n",
       "      <th>2023</th>\n",
       "      <td>8,045,311,447</td>\n",
       "      <td>0.88%</td>\n",
       "      <td>70,206,291</td>\n",
       "      <td>54</td>\n",
       "    </tr>\n",
       "  </tbody>\n",
       "</table>\n",
       "<p>73 rows × 4 columns</p>\n",
       "</div>"
      ],
      "text/plain": [
       "         Population Yearly Growth %      Number  Density (Pop/km2)\n",
       "Year                                                              \n",
       "1951  2,543,130,380           1.75%  43,808,223                 17\n",
       "1952  2,590,270,899           1.85%  47,140,519                 17\n",
       "1953  2,640,278,797           1.93%  50,007,898                 18\n",
       "1954  2,691,979,339           1.96%  51,700,542                 18\n",
       "1955  2,746,072,141           2.01%  54,092,802                 18\n",
       "...             ...             ...         ...                ...\n",
       "2019  7,764,951,032           1.06%  81,161,204                 52\n",
       "2020  7,840,952,880           0.98%  76,001,848                 53\n",
       "2021  7,909,295,151           0.87%  68,342,271                 53\n",
       "2022  7,975,105,156           0.83%  65,810,005                 54\n",
       "2023  8,045,311,447           0.88%  70,206,291                 54\n",
       "\n",
       "[73 rows x 4 columns]"
      ]
     },
     "execution_count": 3,
     "metadata": {},
     "output_type": "execute_result"
    }
   ],
   "source": [
    "cs"
   ]
  },
  {
   "cell_type": "markdown",
   "metadata": {},
   "source": [
    "# Cambiar los nombres de las columnas:"
   ]
  },
  {
   "cell_type": "code",
   "execution_count": 4,
   "metadata": {},
   "outputs": [
    {
     "data": {
      "text/html": [
       "<div>\n",
       "<style scoped>\n",
       "    .dataframe tbody tr th:only-of-type {\n",
       "        vertical-align: middle;\n",
       "    }\n",
       "\n",
       "    .dataframe tbody tr th {\n",
       "        vertical-align: top;\n",
       "    }\n",
       "\n",
       "    .dataframe thead th {\n",
       "        text-align: right;\n",
       "    }\n",
       "</style>\n",
       "<table border=\"1\" class=\"dataframe\">\n",
       "  <thead>\n",
       "    <tr style=\"text-align: right;\">\n",
       "      <th></th>\n",
       "      <th>Población</th>\n",
       "      <th>Crecimiento_anual</th>\n",
       "      <th>Número</th>\n",
       "      <th>Densidad_en_km2</th>\n",
       "    </tr>\n",
       "    <tr>\n",
       "      <th>Year</th>\n",
       "      <th></th>\n",
       "      <th></th>\n",
       "      <th></th>\n",
       "      <th></th>\n",
       "    </tr>\n",
       "  </thead>\n",
       "  <tbody>\n",
       "    <tr>\n",
       "      <th>1951</th>\n",
       "      <td>2,543,130,380</td>\n",
       "      <td>1.75%</td>\n",
       "      <td>43,808,223</td>\n",
       "      <td>17</td>\n",
       "    </tr>\n",
       "    <tr>\n",
       "      <th>1952</th>\n",
       "      <td>2,590,270,899</td>\n",
       "      <td>1.85%</td>\n",
       "      <td>47,140,519</td>\n",
       "      <td>17</td>\n",
       "    </tr>\n",
       "    <tr>\n",
       "      <th>1953</th>\n",
       "      <td>2,640,278,797</td>\n",
       "      <td>1.93%</td>\n",
       "      <td>50,007,898</td>\n",
       "      <td>18</td>\n",
       "    </tr>\n",
       "    <tr>\n",
       "      <th>1954</th>\n",
       "      <td>2,691,979,339</td>\n",
       "      <td>1.96%</td>\n",
       "      <td>51,700,542</td>\n",
       "      <td>18</td>\n",
       "    </tr>\n",
       "    <tr>\n",
       "      <th>1955</th>\n",
       "      <td>2,746,072,141</td>\n",
       "      <td>2.01%</td>\n",
       "      <td>54,092,802</td>\n",
       "      <td>18</td>\n",
       "    </tr>\n",
       "    <tr>\n",
       "      <th>...</th>\n",
       "      <td>...</td>\n",
       "      <td>...</td>\n",
       "      <td>...</td>\n",
       "      <td>...</td>\n",
       "    </tr>\n",
       "    <tr>\n",
       "      <th>2019</th>\n",
       "      <td>7,764,951,032</td>\n",
       "      <td>1.06%</td>\n",
       "      <td>81,161,204</td>\n",
       "      <td>52</td>\n",
       "    </tr>\n",
       "    <tr>\n",
       "      <th>2020</th>\n",
       "      <td>7,840,952,880</td>\n",
       "      <td>0.98%</td>\n",
       "      <td>76,001,848</td>\n",
       "      <td>53</td>\n",
       "    </tr>\n",
       "    <tr>\n",
       "      <th>2021</th>\n",
       "      <td>7,909,295,151</td>\n",
       "      <td>0.87%</td>\n",
       "      <td>68,342,271</td>\n",
       "      <td>53</td>\n",
       "    </tr>\n",
       "    <tr>\n",
       "      <th>2022</th>\n",
       "      <td>7,975,105,156</td>\n",
       "      <td>0.83%</td>\n",
       "      <td>65,810,005</td>\n",
       "      <td>54</td>\n",
       "    </tr>\n",
       "    <tr>\n",
       "      <th>2023</th>\n",
       "      <td>8,045,311,447</td>\n",
       "      <td>0.88%</td>\n",
       "      <td>70,206,291</td>\n",
       "      <td>54</td>\n",
       "    </tr>\n",
       "  </tbody>\n",
       "</table>\n",
       "<p>73 rows × 4 columns</p>\n",
       "</div>"
      ],
      "text/plain": [
       "          Población Crecimiento_anual      Número  Densidad_en_km2\n",
       "Year                                                              \n",
       "1951  2,543,130,380             1.75%  43,808,223               17\n",
       "1952  2,590,270,899             1.85%  47,140,519               17\n",
       "1953  2,640,278,797             1.93%  50,007,898               18\n",
       "1954  2,691,979,339             1.96%  51,700,542               18\n",
       "1955  2,746,072,141             2.01%  54,092,802               18\n",
       "...             ...               ...         ...              ...\n",
       "2019  7,764,951,032             1.06%  81,161,204               52\n",
       "2020  7,840,952,880             0.98%  76,001,848               53\n",
       "2021  7,909,295,151             0.87%  68,342,271               53\n",
       "2022  7,975,105,156             0.83%  65,810,005               54\n",
       "2023  8,045,311,447             0.88%  70,206,291               54\n",
       "\n",
       "[73 rows x 4 columns]"
      ]
     },
     "execution_count": 4,
     "metadata": {},
     "output_type": "execute_result"
    }
   ],
   "source": [
    "cs.columns=['Población', 'Crecimiento_anual', 'Número', 'Densidad_en_km2']\n",
    "cs"
   ]
  },
  {
   "cell_type": "markdown",
   "metadata": {},
   "source": [
    "# Limpiar la columna de Población para pasarla a entero:"
   ]
  },
  {
   "cell_type": "code",
   "execution_count": 5,
   "metadata": {},
   "outputs": [],
   "source": [
    "cs1= cs.copy()"
   ]
  },
  {
   "cell_type": "code",
   "execution_count": 6,
   "metadata": {},
   "outputs": [],
   "source": [
    "cero= cs1['Población'].str.split(',').str.get(0)"
   ]
  },
  {
   "cell_type": "code",
   "execution_count": 7,
   "metadata": {},
   "outputs": [],
   "source": [
    "uno= cs1['Población'].str.split(',').str.get(1)"
   ]
  },
  {
   "cell_type": "code",
   "execution_count": 8,
   "metadata": {},
   "outputs": [],
   "source": [
    "dos= cs1['Población'].str.split(',').str.get(2)"
   ]
  },
  {
   "cell_type": "code",
   "execution_count": 9,
   "metadata": {},
   "outputs": [],
   "source": [
    "tres= cs1['Población'].str.split(',').str.get(3)"
   ]
  },
  {
   "cell_type": "code",
   "execution_count": 10,
   "metadata": {},
   "outputs": [
    {
     "data": {
      "text/plain": [
       "Year\n",
       "1951    380\n",
       "1952    899\n",
       "1953    797\n",
       "1954    339\n",
       "1955    141\n",
       "       ... \n",
       "2019    032\n",
       "2020    880\n",
       "2021    151\n",
       "2022    156\n",
       "2023    447\n",
       "Name: Población, Length: 73, dtype: object"
      ]
     },
     "execution_count": 10,
     "metadata": {},
     "output_type": "execute_result"
    }
   ],
   "source": [
    "tres"
   ]
  },
  {
   "cell_type": "code",
   "execution_count": 11,
   "metadata": {},
   "outputs": [
    {
     "data": {
      "text/html": [
       "<div>\n",
       "<style scoped>\n",
       "    .dataframe tbody tr th:only-of-type {\n",
       "        vertical-align: middle;\n",
       "    }\n",
       "\n",
       "    .dataframe tbody tr th {\n",
       "        vertical-align: top;\n",
       "    }\n",
       "\n",
       "    .dataframe thead th {\n",
       "        text-align: right;\n",
       "    }\n",
       "</style>\n",
       "<table border=\"1\" class=\"dataframe\">\n",
       "  <thead>\n",
       "    <tr style=\"text-align: right;\">\n",
       "      <th></th>\n",
       "      <th>Crecimiento_anual</th>\n",
       "      <th>Número</th>\n",
       "      <th>Densidad_en_km2</th>\n",
       "    </tr>\n",
       "    <tr>\n",
       "      <th>Year</th>\n",
       "      <th></th>\n",
       "      <th></th>\n",
       "      <th></th>\n",
       "    </tr>\n",
       "  </thead>\n",
       "  <tbody>\n",
       "    <tr>\n",
       "      <th>1951</th>\n",
       "      <td>1.75%</td>\n",
       "      <td>43,808,223</td>\n",
       "      <td>17</td>\n",
       "    </tr>\n",
       "    <tr>\n",
       "      <th>1952</th>\n",
       "      <td>1.85%</td>\n",
       "      <td>47,140,519</td>\n",
       "      <td>17</td>\n",
       "    </tr>\n",
       "    <tr>\n",
       "      <th>1953</th>\n",
       "      <td>1.93%</td>\n",
       "      <td>50,007,898</td>\n",
       "      <td>18</td>\n",
       "    </tr>\n",
       "    <tr>\n",
       "      <th>1954</th>\n",
       "      <td>1.96%</td>\n",
       "      <td>51,700,542</td>\n",
       "      <td>18</td>\n",
       "    </tr>\n",
       "    <tr>\n",
       "      <th>1955</th>\n",
       "      <td>2.01%</td>\n",
       "      <td>54,092,802</td>\n",
       "      <td>18</td>\n",
       "    </tr>\n",
       "    <tr>\n",
       "      <th>...</th>\n",
       "      <td>...</td>\n",
       "      <td>...</td>\n",
       "      <td>...</td>\n",
       "    </tr>\n",
       "    <tr>\n",
       "      <th>2019</th>\n",
       "      <td>1.06%</td>\n",
       "      <td>81,161,204</td>\n",
       "      <td>52</td>\n",
       "    </tr>\n",
       "    <tr>\n",
       "      <th>2020</th>\n",
       "      <td>0.98%</td>\n",
       "      <td>76,001,848</td>\n",
       "      <td>53</td>\n",
       "    </tr>\n",
       "    <tr>\n",
       "      <th>2021</th>\n",
       "      <td>0.87%</td>\n",
       "      <td>68,342,271</td>\n",
       "      <td>53</td>\n",
       "    </tr>\n",
       "    <tr>\n",
       "      <th>2022</th>\n",
       "      <td>0.83%</td>\n",
       "      <td>65,810,005</td>\n",
       "      <td>54</td>\n",
       "    </tr>\n",
       "    <tr>\n",
       "      <th>2023</th>\n",
       "      <td>0.88%</td>\n",
       "      <td>70,206,291</td>\n",
       "      <td>54</td>\n",
       "    </tr>\n",
       "  </tbody>\n",
       "</table>\n",
       "<p>73 rows × 3 columns</p>\n",
       "</div>"
      ],
      "text/plain": [
       "     Crecimiento_anual      Número  Densidad_en_km2\n",
       "Year                                               \n",
       "1951             1.75%  43,808,223               17\n",
       "1952             1.85%  47,140,519               17\n",
       "1953             1.93%  50,007,898               18\n",
       "1954             1.96%  51,700,542               18\n",
       "1955             2.01%  54,092,802               18\n",
       "...                ...         ...              ...\n",
       "2019             1.06%  81,161,204               52\n",
       "2020             0.98%  76,001,848               53\n",
       "2021             0.87%  68,342,271               53\n",
       "2022             0.83%  65,810,005               54\n",
       "2023             0.88%  70,206,291               54\n",
       "\n",
       "[73 rows x 3 columns]"
      ]
     },
     "execution_count": 11,
     "metadata": {},
     "output_type": "execute_result"
    }
   ],
   "source": [
    "cs1.pop('Población')\n",
    "cs1"
   ]
  },
  {
   "cell_type": "code",
   "execution_count": 12,
   "metadata": {},
   "outputs": [
    {
     "data": {
      "text/html": [
       "<div>\n",
       "<style scoped>\n",
       "    .dataframe tbody tr th:only-of-type {\n",
       "        vertical-align: middle;\n",
       "    }\n",
       "\n",
       "    .dataframe tbody tr th {\n",
       "        vertical-align: top;\n",
       "    }\n",
       "\n",
       "    .dataframe thead th {\n",
       "        text-align: right;\n",
       "    }\n",
       "</style>\n",
       "<table border=\"1\" class=\"dataframe\">\n",
       "  <thead>\n",
       "    <tr style=\"text-align: right;\">\n",
       "      <th></th>\n",
       "      <th>Crecimiento_anual</th>\n",
       "      <th>Número</th>\n",
       "      <th>Densidad_en_km2</th>\n",
       "      <th>Población</th>\n",
       "    </tr>\n",
       "    <tr>\n",
       "      <th>Year</th>\n",
       "      <th></th>\n",
       "      <th></th>\n",
       "      <th></th>\n",
       "      <th></th>\n",
       "    </tr>\n",
       "  </thead>\n",
       "  <tbody>\n",
       "    <tr>\n",
       "      <th>1951</th>\n",
       "      <td>1.75%</td>\n",
       "      <td>43,808,223</td>\n",
       "      <td>17</td>\n",
       "      <td>2543130380</td>\n",
       "    </tr>\n",
       "    <tr>\n",
       "      <th>1952</th>\n",
       "      <td>1.85%</td>\n",
       "      <td>47,140,519</td>\n",
       "      <td>17</td>\n",
       "      <td>2590270899</td>\n",
       "    </tr>\n",
       "    <tr>\n",
       "      <th>1953</th>\n",
       "      <td>1.93%</td>\n",
       "      <td>50,007,898</td>\n",
       "      <td>18</td>\n",
       "      <td>2640278797</td>\n",
       "    </tr>\n",
       "    <tr>\n",
       "      <th>1954</th>\n",
       "      <td>1.96%</td>\n",
       "      <td>51,700,542</td>\n",
       "      <td>18</td>\n",
       "      <td>2691979339</td>\n",
       "    </tr>\n",
       "    <tr>\n",
       "      <th>1955</th>\n",
       "      <td>2.01%</td>\n",
       "      <td>54,092,802</td>\n",
       "      <td>18</td>\n",
       "      <td>2746072141</td>\n",
       "    </tr>\n",
       "    <tr>\n",
       "      <th>...</th>\n",
       "      <td>...</td>\n",
       "      <td>...</td>\n",
       "      <td>...</td>\n",
       "      <td>...</td>\n",
       "    </tr>\n",
       "    <tr>\n",
       "      <th>2019</th>\n",
       "      <td>1.06%</td>\n",
       "      <td>81,161,204</td>\n",
       "      <td>52</td>\n",
       "      <td>7764951032</td>\n",
       "    </tr>\n",
       "    <tr>\n",
       "      <th>2020</th>\n",
       "      <td>0.98%</td>\n",
       "      <td>76,001,848</td>\n",
       "      <td>53</td>\n",
       "      <td>7840952880</td>\n",
       "    </tr>\n",
       "    <tr>\n",
       "      <th>2021</th>\n",
       "      <td>0.87%</td>\n",
       "      <td>68,342,271</td>\n",
       "      <td>53</td>\n",
       "      <td>7909295151</td>\n",
       "    </tr>\n",
       "    <tr>\n",
       "      <th>2022</th>\n",
       "      <td>0.83%</td>\n",
       "      <td>65,810,005</td>\n",
       "      <td>54</td>\n",
       "      <td>7975105156</td>\n",
       "    </tr>\n",
       "    <tr>\n",
       "      <th>2023</th>\n",
       "      <td>0.88%</td>\n",
       "      <td>70,206,291</td>\n",
       "      <td>54</td>\n",
       "      <td>8045311447</td>\n",
       "    </tr>\n",
       "  </tbody>\n",
       "</table>\n",
       "<p>73 rows × 4 columns</p>\n",
       "</div>"
      ],
      "text/plain": [
       "     Crecimiento_anual      Número  Densidad_en_km2   Población\n",
       "Year                                                           \n",
       "1951             1.75%  43,808,223               17  2543130380\n",
       "1952             1.85%  47,140,519               17  2590270899\n",
       "1953             1.93%  50,007,898               18  2640278797\n",
       "1954             1.96%  51,700,542               18  2691979339\n",
       "1955             2.01%  54,092,802               18  2746072141\n",
       "...                ...         ...              ...         ...\n",
       "2019             1.06%  81,161,204               52  7764951032\n",
       "2020             0.98%  76,001,848               53  7840952880\n",
       "2021             0.87%  68,342,271               53  7909295151\n",
       "2022             0.83%  65,810,005               54  7975105156\n",
       "2023             0.88%  70,206,291               54  8045311447\n",
       "\n",
       "[73 rows x 4 columns]"
      ]
     },
     "execution_count": 12,
     "metadata": {},
     "output_type": "execute_result"
    }
   ],
   "source": [
    "cs1['Población']= cero + uno + dos + tres\n",
    "cs1"
   ]
  },
  {
   "cell_type": "code",
   "execution_count": 13,
   "metadata": {},
   "outputs": [],
   "source": [
    "cs1= cs1[['Población', 'Crecimiento_anual', 'Número', 'Densidad_en_km2']]"
   ]
  },
  {
   "cell_type": "code",
   "execution_count": 14,
   "metadata": {},
   "outputs": [
    {
     "data": {
      "text/html": [
       "<div>\n",
       "<style scoped>\n",
       "    .dataframe tbody tr th:only-of-type {\n",
       "        vertical-align: middle;\n",
       "    }\n",
       "\n",
       "    .dataframe tbody tr th {\n",
       "        vertical-align: top;\n",
       "    }\n",
       "\n",
       "    .dataframe thead th {\n",
       "        text-align: right;\n",
       "    }\n",
       "</style>\n",
       "<table border=\"1\" class=\"dataframe\">\n",
       "  <thead>\n",
       "    <tr style=\"text-align: right;\">\n",
       "      <th></th>\n",
       "      <th>Población</th>\n",
       "      <th>Crecimiento_anual</th>\n",
       "      <th>Número</th>\n",
       "      <th>Densidad_en_km2</th>\n",
       "    </tr>\n",
       "    <tr>\n",
       "      <th>Year</th>\n",
       "      <th></th>\n",
       "      <th></th>\n",
       "      <th></th>\n",
       "      <th></th>\n",
       "    </tr>\n",
       "  </thead>\n",
       "  <tbody>\n",
       "    <tr>\n",
       "      <th>1951</th>\n",
       "      <td>2543130380</td>\n",
       "      <td>1.75%</td>\n",
       "      <td>43,808,223</td>\n",
       "      <td>17</td>\n",
       "    </tr>\n",
       "    <tr>\n",
       "      <th>1952</th>\n",
       "      <td>2590270899</td>\n",
       "      <td>1.85%</td>\n",
       "      <td>47,140,519</td>\n",
       "      <td>17</td>\n",
       "    </tr>\n",
       "    <tr>\n",
       "      <th>1953</th>\n",
       "      <td>2640278797</td>\n",
       "      <td>1.93%</td>\n",
       "      <td>50,007,898</td>\n",
       "      <td>18</td>\n",
       "    </tr>\n",
       "    <tr>\n",
       "      <th>1954</th>\n",
       "      <td>2691979339</td>\n",
       "      <td>1.96%</td>\n",
       "      <td>51,700,542</td>\n",
       "      <td>18</td>\n",
       "    </tr>\n",
       "    <tr>\n",
       "      <th>1955</th>\n",
       "      <td>2746072141</td>\n",
       "      <td>2.01%</td>\n",
       "      <td>54,092,802</td>\n",
       "      <td>18</td>\n",
       "    </tr>\n",
       "    <tr>\n",
       "      <th>...</th>\n",
       "      <td>...</td>\n",
       "      <td>...</td>\n",
       "      <td>...</td>\n",
       "      <td>...</td>\n",
       "    </tr>\n",
       "    <tr>\n",
       "      <th>2019</th>\n",
       "      <td>7764951032</td>\n",
       "      <td>1.06%</td>\n",
       "      <td>81,161,204</td>\n",
       "      <td>52</td>\n",
       "    </tr>\n",
       "    <tr>\n",
       "      <th>2020</th>\n",
       "      <td>7840952880</td>\n",
       "      <td>0.98%</td>\n",
       "      <td>76,001,848</td>\n",
       "      <td>53</td>\n",
       "    </tr>\n",
       "    <tr>\n",
       "      <th>2021</th>\n",
       "      <td>7909295151</td>\n",
       "      <td>0.87%</td>\n",
       "      <td>68,342,271</td>\n",
       "      <td>53</td>\n",
       "    </tr>\n",
       "    <tr>\n",
       "      <th>2022</th>\n",
       "      <td>7975105156</td>\n",
       "      <td>0.83%</td>\n",
       "      <td>65,810,005</td>\n",
       "      <td>54</td>\n",
       "    </tr>\n",
       "    <tr>\n",
       "      <th>2023</th>\n",
       "      <td>8045311447</td>\n",
       "      <td>0.88%</td>\n",
       "      <td>70,206,291</td>\n",
       "      <td>54</td>\n",
       "    </tr>\n",
       "  </tbody>\n",
       "</table>\n",
       "<p>73 rows × 4 columns</p>\n",
       "</div>"
      ],
      "text/plain": [
       "       Población Crecimiento_anual      Número  Densidad_en_km2\n",
       "Year                                                           \n",
       "1951  2543130380             1.75%  43,808,223               17\n",
       "1952  2590270899             1.85%  47,140,519               17\n",
       "1953  2640278797             1.93%  50,007,898               18\n",
       "1954  2691979339             1.96%  51,700,542               18\n",
       "1955  2746072141             2.01%  54,092,802               18\n",
       "...          ...               ...         ...              ...\n",
       "2019  7764951032             1.06%  81,161,204               52\n",
       "2020  7840952880             0.98%  76,001,848               53\n",
       "2021  7909295151             0.87%  68,342,271               53\n",
       "2022  7975105156             0.83%  65,810,005               54\n",
       "2023  8045311447             0.88%  70,206,291               54\n",
       "\n",
       "[73 rows x 4 columns]"
      ]
     },
     "execution_count": 14,
     "metadata": {},
     "output_type": "execute_result"
    }
   ],
   "source": [
    "cs1"
   ]
  },
  {
   "cell_type": "code",
   "execution_count": 15,
   "metadata": {},
   "outputs": [],
   "source": [
    "cs1['Población']= cs1['Población'].astype('int64')"
   ]
  },
  {
   "cell_type": "code",
   "execution_count": 16,
   "metadata": {},
   "outputs": [
    {
     "name": "stdout",
     "output_type": "stream",
     "text": [
      "<class 'pandas.core.frame.DataFrame'>\n",
      "Index: 73 entries, 1951 to 2023\n",
      "Data columns (total 4 columns):\n",
      " #   Column             Non-Null Count  Dtype \n",
      "---  ------             --------------  ----- \n",
      " 0   Población          73 non-null     int64 \n",
      " 1   Crecimiento_anual  73 non-null     object\n",
      " 2   Número             73 non-null     object\n",
      " 3   Densidad_en_km2    73 non-null     int64 \n",
      "dtypes: int64(2), object(2)\n",
      "memory usage: 2.9+ KB\n"
     ]
    }
   ],
   "source": [
    "cs1.info()"
   ]
  },
  {
   "cell_type": "markdown",
   "metadata": {},
   "source": [
    "# Pasar Crecimiento anual a float y Número a int:"
   ]
  },
  {
   "cell_type": "code",
   "execution_count": 17,
   "metadata": {},
   "outputs": [],
   "source": [
    "v1= lambda x:float(x[1:-1])"
   ]
  },
  {
   "cell_type": "code",
   "execution_count": 18,
   "metadata": {},
   "outputs": [],
   "source": [
    "cs1.Crecimiento_anual= cs1.Crecimiento_anual.apply(v1)"
   ]
  },
  {
   "cell_type": "code",
   "execution_count": 19,
   "metadata": {},
   "outputs": [
    {
     "name": "stdout",
     "output_type": "stream",
     "text": [
      "<class 'pandas.core.frame.DataFrame'>\n",
      "Index: 73 entries, 1951 to 2023\n",
      "Data columns (total 4 columns):\n",
      " #   Column             Non-Null Count  Dtype  \n",
      "---  ------             --------------  -----  \n",
      " 0   Población          73 non-null     int64  \n",
      " 1   Crecimiento_anual  73 non-null     float64\n",
      " 2   Número             73 non-null     object \n",
      " 3   Densidad_en_km2    73 non-null     int64  \n",
      "dtypes: float64(1), int64(2), object(1)\n",
      "memory usage: 2.9+ KB\n"
     ]
    }
   ],
   "source": [
    "cs1.info()"
   ]
  },
  {
   "cell_type": "code",
   "execution_count": 20,
   "metadata": {},
   "outputs": [],
   "source": [
    "n1= cs1['Número'].str.split(',').str.get(0)\n",
    "n2= cs1['Número'].str.split(',').str.get(1)\n",
    "n3= cs1['Número'].str.split(',').str.get(2)"
   ]
  },
  {
   "cell_type": "code",
   "execution_count": 21,
   "metadata": {},
   "outputs": [
    {
     "data": {
      "text/html": [
       "<div>\n",
       "<style scoped>\n",
       "    .dataframe tbody tr th:only-of-type {\n",
       "        vertical-align: middle;\n",
       "    }\n",
       "\n",
       "    .dataframe tbody tr th {\n",
       "        vertical-align: top;\n",
       "    }\n",
       "\n",
       "    .dataframe thead th {\n",
       "        text-align: right;\n",
       "    }\n",
       "</style>\n",
       "<table border=\"1\" class=\"dataframe\">\n",
       "  <thead>\n",
       "    <tr style=\"text-align: right;\">\n",
       "      <th></th>\n",
       "      <th>Población</th>\n",
       "      <th>Crecimiento_anual</th>\n",
       "      <th>Densidad_en_km2</th>\n",
       "    </tr>\n",
       "    <tr>\n",
       "      <th>Year</th>\n",
       "      <th></th>\n",
       "      <th></th>\n",
       "      <th></th>\n",
       "    </tr>\n",
       "  </thead>\n",
       "  <tbody>\n",
       "    <tr>\n",
       "      <th>1951</th>\n",
       "      <td>2543130380</td>\n",
       "      <td>0.75</td>\n",
       "      <td>17</td>\n",
       "    </tr>\n",
       "    <tr>\n",
       "      <th>1952</th>\n",
       "      <td>2590270899</td>\n",
       "      <td>0.85</td>\n",
       "      <td>17</td>\n",
       "    </tr>\n",
       "    <tr>\n",
       "      <th>1953</th>\n",
       "      <td>2640278797</td>\n",
       "      <td>0.93</td>\n",
       "      <td>18</td>\n",
       "    </tr>\n",
       "    <tr>\n",
       "      <th>1954</th>\n",
       "      <td>2691979339</td>\n",
       "      <td>0.96</td>\n",
       "      <td>18</td>\n",
       "    </tr>\n",
       "    <tr>\n",
       "      <th>1955</th>\n",
       "      <td>2746072141</td>\n",
       "      <td>0.01</td>\n",
       "      <td>18</td>\n",
       "    </tr>\n",
       "    <tr>\n",
       "      <th>...</th>\n",
       "      <td>...</td>\n",
       "      <td>...</td>\n",
       "      <td>...</td>\n",
       "    </tr>\n",
       "    <tr>\n",
       "      <th>2019</th>\n",
       "      <td>7764951032</td>\n",
       "      <td>0.06</td>\n",
       "      <td>52</td>\n",
       "    </tr>\n",
       "    <tr>\n",
       "      <th>2020</th>\n",
       "      <td>7840952880</td>\n",
       "      <td>0.98</td>\n",
       "      <td>53</td>\n",
       "    </tr>\n",
       "    <tr>\n",
       "      <th>2021</th>\n",
       "      <td>7909295151</td>\n",
       "      <td>0.87</td>\n",
       "      <td>53</td>\n",
       "    </tr>\n",
       "    <tr>\n",
       "      <th>2022</th>\n",
       "      <td>7975105156</td>\n",
       "      <td>0.83</td>\n",
       "      <td>54</td>\n",
       "    </tr>\n",
       "    <tr>\n",
       "      <th>2023</th>\n",
       "      <td>8045311447</td>\n",
       "      <td>0.88</td>\n",
       "      <td>54</td>\n",
       "    </tr>\n",
       "  </tbody>\n",
       "</table>\n",
       "<p>73 rows × 3 columns</p>\n",
       "</div>"
      ],
      "text/plain": [
       "       Población  Crecimiento_anual  Densidad_en_km2\n",
       "Year                                                \n",
       "1951  2543130380               0.75               17\n",
       "1952  2590270899               0.85               17\n",
       "1953  2640278797               0.93               18\n",
       "1954  2691979339               0.96               18\n",
       "1955  2746072141               0.01               18\n",
       "...          ...                ...              ...\n",
       "2019  7764951032               0.06               52\n",
       "2020  7840952880               0.98               53\n",
       "2021  7909295151               0.87               53\n",
       "2022  7975105156               0.83               54\n",
       "2023  8045311447               0.88               54\n",
       "\n",
       "[73 rows x 3 columns]"
      ]
     },
     "execution_count": 21,
     "metadata": {},
     "output_type": "execute_result"
    }
   ],
   "source": [
    "cs1.pop('Número')\n",
    "cs1"
   ]
  },
  {
   "cell_type": "code",
   "execution_count": 22,
   "metadata": {},
   "outputs": [
    {
     "data": {
      "text/html": [
       "<div>\n",
       "<style scoped>\n",
       "    .dataframe tbody tr th:only-of-type {\n",
       "        vertical-align: middle;\n",
       "    }\n",
       "\n",
       "    .dataframe tbody tr th {\n",
       "        vertical-align: top;\n",
       "    }\n",
       "\n",
       "    .dataframe thead th {\n",
       "        text-align: right;\n",
       "    }\n",
       "</style>\n",
       "<table border=\"1\" class=\"dataframe\">\n",
       "  <thead>\n",
       "    <tr style=\"text-align: right;\">\n",
       "      <th></th>\n",
       "      <th>Población</th>\n",
       "      <th>Crecimiento_anual</th>\n",
       "      <th>Densidad_en_km2</th>\n",
       "      <th>Número</th>\n",
       "    </tr>\n",
       "    <tr>\n",
       "      <th>Year</th>\n",
       "      <th></th>\n",
       "      <th></th>\n",
       "      <th></th>\n",
       "      <th></th>\n",
       "    </tr>\n",
       "  </thead>\n",
       "  <tbody>\n",
       "    <tr>\n",
       "      <th>1951</th>\n",
       "      <td>2543130380</td>\n",
       "      <td>0.75</td>\n",
       "      <td>17</td>\n",
       "      <td>43808223</td>\n",
       "    </tr>\n",
       "    <tr>\n",
       "      <th>1952</th>\n",
       "      <td>2590270899</td>\n",
       "      <td>0.85</td>\n",
       "      <td>17</td>\n",
       "      <td>47140519</td>\n",
       "    </tr>\n",
       "    <tr>\n",
       "      <th>1953</th>\n",
       "      <td>2640278797</td>\n",
       "      <td>0.93</td>\n",
       "      <td>18</td>\n",
       "      <td>50007898</td>\n",
       "    </tr>\n",
       "    <tr>\n",
       "      <th>1954</th>\n",
       "      <td>2691979339</td>\n",
       "      <td>0.96</td>\n",
       "      <td>18</td>\n",
       "      <td>51700542</td>\n",
       "    </tr>\n",
       "    <tr>\n",
       "      <th>1955</th>\n",
       "      <td>2746072141</td>\n",
       "      <td>0.01</td>\n",
       "      <td>18</td>\n",
       "      <td>54092802</td>\n",
       "    </tr>\n",
       "    <tr>\n",
       "      <th>...</th>\n",
       "      <td>...</td>\n",
       "      <td>...</td>\n",
       "      <td>...</td>\n",
       "      <td>...</td>\n",
       "    </tr>\n",
       "    <tr>\n",
       "      <th>2019</th>\n",
       "      <td>7764951032</td>\n",
       "      <td>0.06</td>\n",
       "      <td>52</td>\n",
       "      <td>81161204</td>\n",
       "    </tr>\n",
       "    <tr>\n",
       "      <th>2020</th>\n",
       "      <td>7840952880</td>\n",
       "      <td>0.98</td>\n",
       "      <td>53</td>\n",
       "      <td>76001848</td>\n",
       "    </tr>\n",
       "    <tr>\n",
       "      <th>2021</th>\n",
       "      <td>7909295151</td>\n",
       "      <td>0.87</td>\n",
       "      <td>53</td>\n",
       "      <td>68342271</td>\n",
       "    </tr>\n",
       "    <tr>\n",
       "      <th>2022</th>\n",
       "      <td>7975105156</td>\n",
       "      <td>0.83</td>\n",
       "      <td>54</td>\n",
       "      <td>65810005</td>\n",
       "    </tr>\n",
       "    <tr>\n",
       "      <th>2023</th>\n",
       "      <td>8045311447</td>\n",
       "      <td>0.88</td>\n",
       "      <td>54</td>\n",
       "      <td>70206291</td>\n",
       "    </tr>\n",
       "  </tbody>\n",
       "</table>\n",
       "<p>73 rows × 4 columns</p>\n",
       "</div>"
      ],
      "text/plain": [
       "       Población  Crecimiento_anual  Densidad_en_km2    Número\n",
       "Year                                                          \n",
       "1951  2543130380               0.75               17  43808223\n",
       "1952  2590270899               0.85               17  47140519\n",
       "1953  2640278797               0.93               18  50007898\n",
       "1954  2691979339               0.96               18  51700542\n",
       "1955  2746072141               0.01               18  54092802\n",
       "...          ...                ...              ...       ...\n",
       "2019  7764951032               0.06               52  81161204\n",
       "2020  7840952880               0.98               53  76001848\n",
       "2021  7909295151               0.87               53  68342271\n",
       "2022  7975105156               0.83               54  65810005\n",
       "2023  8045311447               0.88               54  70206291\n",
       "\n",
       "[73 rows x 4 columns]"
      ]
     },
     "execution_count": 22,
     "metadata": {},
     "output_type": "execute_result"
    }
   ],
   "source": [
    "cs1['Número']= n1+n2+n3\n",
    "cs1"
   ]
  },
  {
   "cell_type": "code",
   "execution_count": 23,
   "metadata": {},
   "outputs": [],
   "source": [
    "cs1= cs1[['Población', 'Crecimiento_anual', 'Número', 'Densidad_en_km2']]"
   ]
  },
  {
   "cell_type": "code",
   "execution_count": 24,
   "metadata": {},
   "outputs": [],
   "source": [
    "cs1['Número']= cs1['Número'].astype(int)"
   ]
  },
  {
   "cell_type": "code",
   "execution_count": 25,
   "metadata": {},
   "outputs": [
    {
     "data": {
      "text/html": [
       "<div>\n",
       "<style scoped>\n",
       "    .dataframe tbody tr th:only-of-type {\n",
       "        vertical-align: middle;\n",
       "    }\n",
       "\n",
       "    .dataframe tbody tr th {\n",
       "        vertical-align: top;\n",
       "    }\n",
       "\n",
       "    .dataframe thead th {\n",
       "        text-align: right;\n",
       "    }\n",
       "</style>\n",
       "<table border=\"1\" class=\"dataframe\">\n",
       "  <thead>\n",
       "    <tr style=\"text-align: right;\">\n",
       "      <th></th>\n",
       "      <th>Población</th>\n",
       "      <th>Crecimiento_anual</th>\n",
       "      <th>Número</th>\n",
       "      <th>Densidad_en_km2</th>\n",
       "    </tr>\n",
       "    <tr>\n",
       "      <th>Year</th>\n",
       "      <th></th>\n",
       "      <th></th>\n",
       "      <th></th>\n",
       "      <th></th>\n",
       "    </tr>\n",
       "  </thead>\n",
       "  <tbody>\n",
       "    <tr>\n",
       "      <th>1951</th>\n",
       "      <td>2543130380</td>\n",
       "      <td>0.75</td>\n",
       "      <td>43808223</td>\n",
       "      <td>17</td>\n",
       "    </tr>\n",
       "    <tr>\n",
       "      <th>1952</th>\n",
       "      <td>2590270899</td>\n",
       "      <td>0.85</td>\n",
       "      <td>47140519</td>\n",
       "      <td>17</td>\n",
       "    </tr>\n",
       "    <tr>\n",
       "      <th>1953</th>\n",
       "      <td>2640278797</td>\n",
       "      <td>0.93</td>\n",
       "      <td>50007898</td>\n",
       "      <td>18</td>\n",
       "    </tr>\n",
       "    <tr>\n",
       "      <th>1954</th>\n",
       "      <td>2691979339</td>\n",
       "      <td>0.96</td>\n",
       "      <td>51700542</td>\n",
       "      <td>18</td>\n",
       "    </tr>\n",
       "    <tr>\n",
       "      <th>1955</th>\n",
       "      <td>2746072141</td>\n",
       "      <td>0.01</td>\n",
       "      <td>54092802</td>\n",
       "      <td>18</td>\n",
       "    </tr>\n",
       "  </tbody>\n",
       "</table>\n",
       "</div>"
      ],
      "text/plain": [
       "       Población  Crecimiento_anual    Número  Densidad_en_km2\n",
       "Year                                                          \n",
       "1951  2543130380               0.75  43808223               17\n",
       "1952  2590270899               0.85  47140519               17\n",
       "1953  2640278797               0.93  50007898               18\n",
       "1954  2691979339               0.96  51700542               18\n",
       "1955  2746072141               0.01  54092802               18"
      ]
     },
     "execution_count": 25,
     "metadata": {},
     "output_type": "execute_result"
    }
   ],
   "source": [
    "cs1.head()"
   ]
  },
  {
   "cell_type": "code",
   "execution_count": 26,
   "metadata": {},
   "outputs": [
    {
     "name": "stdout",
     "output_type": "stream",
     "text": [
      "<class 'pandas.core.frame.DataFrame'>\n",
      "Index: 73 entries, 1951 to 2023\n",
      "Data columns (total 4 columns):\n",
      " #   Column             Non-Null Count  Dtype  \n",
      "---  ------             --------------  -----  \n",
      " 0   Población          73 non-null     int64  \n",
      " 1   Crecimiento_anual  73 non-null     float64\n",
      " 2   Número             73 non-null     int32  \n",
      " 3   Densidad_en_km2    73 non-null     int64  \n",
      "dtypes: float64(1), int32(1), int64(2)\n",
      "memory usage: 2.6 KB\n"
     ]
    }
   ],
   "source": [
    "cs1.info()"
   ]
  },
  {
   "cell_type": "markdown",
   "metadata": {},
   "source": [
    "# Analizamos los datos estadísticos:"
   ]
  },
  {
   "cell_type": "code",
   "execution_count": 27,
   "metadata": {},
   "outputs": [
    {
     "data": {
      "text/html": [
       "<div>\n",
       "<style scoped>\n",
       "    .dataframe tbody tr th:only-of-type {\n",
       "        vertical-align: middle;\n",
       "    }\n",
       "\n",
       "    .dataframe tbody tr th {\n",
       "        vertical-align: top;\n",
       "    }\n",
       "\n",
       "    .dataframe thead th {\n",
       "        text-align: right;\n",
       "    }\n",
       "</style>\n",
       "<table border=\"1\" class=\"dataframe\">\n",
       "  <thead>\n",
       "    <tr style=\"text-align: right;\">\n",
       "      <th></th>\n",
       "      <th>Población</th>\n",
       "      <th>Crecimiento_anual</th>\n",
       "      <th>Número</th>\n",
       "      <th>Densidad_en_km2</th>\n",
       "    </tr>\n",
       "  </thead>\n",
       "  <tbody>\n",
       "    <tr>\n",
       "      <th>count</th>\n",
       "      <td>7.300000e+01</td>\n",
       "      <td>73.000000</td>\n",
       "      <td>7.300000e+01</td>\n",
       "      <td>73.000000</td>\n",
       "    </tr>\n",
       "    <tr>\n",
       "      <th>mean</th>\n",
       "      <td>5.125104e+09</td>\n",
       "      <td>0.491507</td>\n",
       "      <td>7.597246e+07</td>\n",
       "      <td>34.383562</td>\n",
       "    </tr>\n",
       "    <tr>\n",
       "      <th>std</th>\n",
       "      <td>1.689156e+09</td>\n",
       "      <td>0.324297</td>\n",
       "      <td>1.245181e+07</td>\n",
       "      <td>11.370808</td>\n",
       "    </tr>\n",
       "    <tr>\n",
       "      <th>min</th>\n",
       "      <td>2.543130e+09</td>\n",
       "      <td>0.000000</td>\n",
       "      <td>4.380822e+07</td>\n",
       "      <td>17.000000</td>\n",
       "    </tr>\n",
       "    <tr>\n",
       "      <th>25%</th>\n",
       "      <td>3.620655e+09</td>\n",
       "      <td>0.240000</td>\n",
       "      <td>7.020629e+07</td>\n",
       "      <td>24.000000</td>\n",
       "    </tr>\n",
       "    <tr>\n",
       "      <th>50%</th>\n",
       "      <td>5.040984e+09</td>\n",
       "      <td>0.430000</td>\n",
       "      <td>8.083122e+07</td>\n",
       "      <td>34.000000</td>\n",
       "    </tr>\n",
       "    <tr>\n",
       "      <th>75%</th>\n",
       "      <td>6.558176e+09</td>\n",
       "      <td>0.810000</td>\n",
       "      <td>8.474743e+07</td>\n",
       "      <td>44.000000</td>\n",
       "    </tr>\n",
       "    <tr>\n",
       "      <th>max</th>\n",
       "      <td>8.045311e+09</td>\n",
       "      <td>0.980000</td>\n",
       "      <td>9.247155e+07</td>\n",
       "      <td>54.000000</td>\n",
       "    </tr>\n",
       "  </tbody>\n",
       "</table>\n",
       "</div>"
      ],
      "text/plain": [
       "          Población  Crecimiento_anual        Número  Densidad_en_km2\n",
       "count  7.300000e+01          73.000000  7.300000e+01        73.000000\n",
       "mean   5.125104e+09           0.491507  7.597246e+07        34.383562\n",
       "std    1.689156e+09           0.324297  1.245181e+07        11.370808\n",
       "min    2.543130e+09           0.000000  4.380822e+07        17.000000\n",
       "25%    3.620655e+09           0.240000  7.020629e+07        24.000000\n",
       "50%    5.040984e+09           0.430000  8.083122e+07        34.000000\n",
       "75%    6.558176e+09           0.810000  8.474743e+07        44.000000\n",
       "max    8.045311e+09           0.980000  9.247155e+07        54.000000"
      ]
     },
     "execution_count": 27,
     "metadata": {},
     "output_type": "execute_result"
    }
   ],
   "source": [
    "cs1.describe()"
   ]
  },
  {
   "cell_type": "markdown",
   "metadata": {},
   "source": [
    "# Hacemos los resúmenes estadísticos:"
   ]
  },
  {
   "cell_type": "markdown",
   "metadata": {},
   "source": [
    "# Creamos una gráfica del número de personas nacidas en cada año:"
   ]
  },
  {
   "cell_type": "code",
   "execution_count": 28,
   "metadata": {},
   "outputs": [],
   "source": [
    "cs1['Número']= cs1['Número'] / 1000000"
   ]
  },
  {
   "cell_type": "code",
   "execution_count": 29,
   "metadata": {},
   "outputs": [],
   "source": [
    "s_num= pd.Series(cs1['Número'])"
   ]
  },
  {
   "cell_type": "code",
   "execution_count": 30,
   "metadata": {},
   "outputs": [
    {
     "data": {
      "text/plain": [
       "Year\n",
       "1951    43.808223\n",
       "1952    47.140519\n",
       "1953    50.007898\n",
       "1954    51.700542\n",
       "1955    54.092802\n",
       "          ...    \n",
       "2019    81.161204\n",
       "2020    76.001848\n",
       "2021    68.342271\n",
       "2022    65.810005\n",
       "2023    70.206291\n",
       "Name: Número, Length: 73, dtype: float64"
      ]
     },
     "execution_count": 30,
     "metadata": {},
     "output_type": "execute_result"
    }
   ],
   "source": [
    "s_num"
   ]
  },
  {
   "cell_type": "code",
   "execution_count": 54,
   "metadata": {},
   "outputs": [
    {
     "data": {
      "text/plain": [
       "Text(0.5, 0, 'Año')"
      ]
     },
     "execution_count": 54,
     "metadata": {},
     "output_type": "execute_result"
    },
    {
     "data": {
      "image/png": "[encoded data removed]",
      "text/plain": [
       "<Figure size 640x480 with 1 Axes>"
      ]
     },
     "metadata": {},
     "output_type": "display_data"
    }
   ],
   "source": [
    "plt.plot(s_num, )\n",
    "plt.minorticks_on()\n",
    "plt.grid()\n",
    "plt.title('Número de personas nacidas en cada año')\n",
    "plt.ylabel('Millones de personas')\n",
    "plt.xlabel('Año')"
   ]
  },
  {
   "cell_type": "code",
   "execution_count": 32,
   "metadata": {},
   "outputs": [],
   "source": [
    "# En el grágico podemos observar que a finales de los años 50 hubo un importante descenso en el crecimiento \n",
    "# de la población, experimentando un gran aumento seguidamente a principio de los años 60.\n",
    "# También vemos como hay otro descenso importante entre el 2.015 y el 2.022, notando una mejoría en la actualidad.\n",
    "# El año con mayor crecimiento fue en 1.990 con casi 92,5 Millones de personas."
   ]
  },
  {
   "cell_type": "markdown",
   "metadata": {},
   "source": [
    "# Graficamos la población:"
   ]
  },
  {
   "cell_type": "code",
   "execution_count": 33,
   "metadata": {},
   "outputs": [],
   "source": [
    "cs1['Población']= cs1['Población'] / 1000000"
   ]
  },
  {
   "cell_type": "code",
   "execution_count": 34,
   "metadata": {},
   "outputs": [],
   "source": [
    "s_pob= cs1.Población"
   ]
  },
  {
   "cell_type": "code",
   "execution_count": 35,
   "metadata": {},
   "outputs": [
    {
     "data": {
      "text/plain": [
       "Year\n",
       "1951    2543.130380\n",
       "1952    2590.270899\n",
       "1953    2640.278797\n",
       "1954    2691.979339\n",
       "1955    2746.072141\n",
       "1956    2801.002631\n",
       "1957    2857.866857\n",
       "1958    2916.108097\n",
       "1959    2970.292188\n",
       "1960    3019.233434\n",
       "Name: Población, dtype: float64"
      ]
     },
     "execution_count": 35,
     "metadata": {},
     "output_type": "execute_result"
    }
   ],
   "source": [
    "s_pob.sort_values().head(10)"
   ]
  },
  {
   "cell_type": "code",
   "execution_count": 36,
   "metadata": {},
   "outputs": [
    {
     "data": {
      "text/plain": [
       "8045.311447"
      ]
     },
     "execution_count": 36,
     "metadata": {},
     "output_type": "execute_result"
    }
   ],
   "source": [
    "s_pob.max()"
   ]
  },
  {
   "cell_type": "code",
   "execution_count": 37,
   "metadata": {},
   "outputs": [
    {
     "data": {
      "text/plain": [
       "Text(0.5, 0, 'Año')"
      ]
     },
     "execution_count": 37,
     "metadata": {},
     "output_type": "execute_result"
    },
    {
     "data": {
      "image/png": "[encoded data removed]",
      "text/plain": [
       "<Figure size 640x480 with 1 Axes>"
      ]
     },
     "metadata": {},
     "output_type": "display_data"
    }
   ],
   "source": [
    "plt.plot(s_pob)\n",
    "plt.minorticks_on()\n",
    "plt.grid()\n",
    "plt.title('Población')\n",
    "plt.ylabel('Millones de personas')\n",
    "plt.xlabel('Año')"
   ]
  },
  {
   "cell_type": "code",
   "execution_count": 38,
   "metadata": {},
   "outputs": [],
   "source": [
    "# Aquí podemos observar que la población mundial ha tenido en todo momento un ascenso constante sin altibajos,\n",
    "# superando los 8.000 millones de personas en la actualidad."
   ]
  },
  {
   "cell_type": "code",
   "execution_count": 39,
   "metadata": {},
   "outputs": [
    {
     "data": {
      "text/html": [
       "<div>\n",
       "<style scoped>\n",
       "    .dataframe tbody tr th:only-of-type {\n",
       "        vertical-align: middle;\n",
       "    }\n",
       "\n",
       "    .dataframe tbody tr th {\n",
       "        vertical-align: top;\n",
       "    }\n",
       "\n",
       "    .dataframe thead th {\n",
       "        text-align: right;\n",
       "    }\n",
       "</style>\n",
       "<table border=\"1\" class=\"dataframe\">\n",
       "  <thead>\n",
       "    <tr style=\"text-align: right;\">\n",
       "      <th></th>\n",
       "      <th>Población</th>\n",
       "      <th>Crecimiento_anual</th>\n",
       "      <th>Número</th>\n",
       "      <th>Densidad_en_km2</th>\n",
       "    </tr>\n",
       "    <tr>\n",
       "      <th>Year</th>\n",
       "      <th></th>\n",
       "      <th></th>\n",
       "      <th></th>\n",
       "      <th></th>\n",
       "    </tr>\n",
       "  </thead>\n",
       "  <tbody>\n",
       "    <tr>\n",
       "      <th>1951</th>\n",
       "      <td>2543.130380</td>\n",
       "      <td>0.75</td>\n",
       "      <td>43.808223</td>\n",
       "      <td>17</td>\n",
       "    </tr>\n",
       "    <tr>\n",
       "      <th>1952</th>\n",
       "      <td>2590.270899</td>\n",
       "      <td>0.85</td>\n",
       "      <td>47.140519</td>\n",
       "      <td>17</td>\n",
       "    </tr>\n",
       "    <tr>\n",
       "      <th>1953</th>\n",
       "      <td>2640.278797</td>\n",
       "      <td>0.93</td>\n",
       "      <td>50.007898</td>\n",
       "      <td>18</td>\n",
       "    </tr>\n",
       "    <tr>\n",
       "      <th>1954</th>\n",
       "      <td>2691.979339</td>\n",
       "      <td>0.96</td>\n",
       "      <td>51.700542</td>\n",
       "      <td>18</td>\n",
       "    </tr>\n",
       "    <tr>\n",
       "      <th>1955</th>\n",
       "      <td>2746.072141</td>\n",
       "      <td>0.01</td>\n",
       "      <td>54.092802</td>\n",
       "      <td>18</td>\n",
       "    </tr>\n",
       "    <tr>\n",
       "      <th>...</th>\n",
       "      <td>...</td>\n",
       "      <td>...</td>\n",
       "      <td>...</td>\n",
       "      <td>...</td>\n",
       "    </tr>\n",
       "    <tr>\n",
       "      <th>2019</th>\n",
       "      <td>7764.951032</td>\n",
       "      <td>0.06</td>\n",
       "      <td>81.161204</td>\n",
       "      <td>52</td>\n",
       "    </tr>\n",
       "    <tr>\n",
       "      <th>2020</th>\n",
       "      <td>7840.952880</td>\n",
       "      <td>0.98</td>\n",
       "      <td>76.001848</td>\n",
       "      <td>53</td>\n",
       "    </tr>\n",
       "    <tr>\n",
       "      <th>2021</th>\n",
       "      <td>7909.295151</td>\n",
       "      <td>0.87</td>\n",
       "      <td>68.342271</td>\n",
       "      <td>53</td>\n",
       "    </tr>\n",
       "    <tr>\n",
       "      <th>2022</th>\n",
       "      <td>7975.105156</td>\n",
       "      <td>0.83</td>\n",
       "      <td>65.810005</td>\n",
       "      <td>54</td>\n",
       "    </tr>\n",
       "    <tr>\n",
       "      <th>2023</th>\n",
       "      <td>8045.311447</td>\n",
       "      <td>0.88</td>\n",
       "      <td>70.206291</td>\n",
       "      <td>54</td>\n",
       "    </tr>\n",
       "  </tbody>\n",
       "</table>\n",
       "<p>73 rows × 4 columns</p>\n",
       "</div>"
      ],
      "text/plain": [
       "        Población  Crecimiento_anual     Número  Densidad_en_km2\n",
       "Year                                                            \n",
       "1951  2543.130380               0.75  43.808223               17\n",
       "1952  2590.270899               0.85  47.140519               17\n",
       "1953  2640.278797               0.93  50.007898               18\n",
       "1954  2691.979339               0.96  51.700542               18\n",
       "1955  2746.072141               0.01  54.092802               18\n",
       "...           ...                ...        ...              ...\n",
       "2019  7764.951032               0.06  81.161204               52\n",
       "2020  7840.952880               0.98  76.001848               53\n",
       "2021  7909.295151               0.87  68.342271               53\n",
       "2022  7975.105156               0.83  65.810005               54\n",
       "2023  8045.311447               0.88  70.206291               54\n",
       "\n",
       "[73 rows x 4 columns]"
      ]
     },
     "execution_count": 39,
     "metadata": {},
     "output_type": "execute_result"
    }
   ],
   "source": [
    "cs1"
   ]
  },
  {
   "cell_type": "markdown",
   "metadata": {},
   "source": [
    "# Graficamos la densidad en km2:"
   ]
  },
  {
   "cell_type": "code",
   "execution_count": 40,
   "metadata": {},
   "outputs": [
    {
     "data": {
      "text/plain": [
       "Year\n",
       "1951    17\n",
       "1952    17\n",
       "1953    18\n",
       "1954    18\n",
       "1955    18\n",
       "        ..\n",
       "2019    52\n",
       "2020    53\n",
       "2021    53\n",
       "2022    54\n",
       "2023    54\n",
       "Name: Densidad_en_km2, Length: 73, dtype: int64"
      ]
     },
     "execution_count": 40,
     "metadata": {},
     "output_type": "execute_result"
    }
   ],
   "source": [
    "s_den= cs1.Densidad_en_km2\n",
    "s_den"
   ]
  },
  {
   "cell_type": "code",
   "execution_count": 53,
   "metadata": {},
   "outputs": [
    {
     "data": {
      "text/plain": [
       "Text(0.5, 0, 'Año')"
      ]
     },
     "execution_count": 53,
     "metadata": {},
     "output_type": "execute_result"
    },
    {
     "data": {
      "image/png": "[encoded data removed]",
      "text/plain": [
       "<Figure size 640x480 with 1 Axes>"
      ]
     },
     "metadata": {},
     "output_type": "display_data"
    }
   ],
   "source": [
    "sns.lineplot(s_den)\n",
    "plt.grid()\n",
    "plt.minorticks_on()\n",
    "plt.title('Densidad de personas por km2 en cada año')\n",
    "plt.ylabel('Personas por km2')\n",
    "plt.xlabel('Año')"
   ]
  },
  {
   "cell_type": "code",
   "execution_count": 42,
   "metadata": {},
   "outputs": [],
   "source": [
    "# En la densidad por km2 también vemos un ascenso constante normal, llegando a 54 en la actualidad."
   ]
  }
 ],
 "metadata": {
  "kernelspec": {
   "display_name": "Python 3",
   "language": "python",
   "name": "python3"
  },
  "language_info": {
   "codemirror_mode": {
    "name": "ipython",
    "version": 3
   },
   "file_extension": ".py",
   "mimetype": "text/x-python",
   "name": "python",
   "nbconvert_exporter": "python",
   "pygments_lexer": "ipython3",
   "version": "3.11.4"
  }
 },
 "nbformat": 4,
 "nbformat_minor": 2
}
